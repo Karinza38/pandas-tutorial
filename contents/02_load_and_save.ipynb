{
 "cells": [
  {
   "cell_type": "markdown",
   "id": "a4135468",
   "metadata": {},
   "source": [
    "# 02 - Load and Save"
   ]
  },
  {
   "cell_type": "markdown",
   "id": "5bd03a84",
   "metadata": {},
   "source": [
    "## Objectives:\n",
    "- Importing data\n",
    "- Exporting data"
   ]
  },
  {
   "cell_type": "markdown",
   "id": "15d62b8f",
   "metadata": {},
   "source": [
    "## Import Package"
   ]
  },
  {
   "cell_type": "code",
   "execution_count": 1,
   "id": "bd33e898",
   "metadata": {},
   "outputs": [],
   "source": [
    "# Import package as pandas does not ship along as native package\n",
    "# use pip install pandas if not installed yet, or follow setup guide\n",
    "\n",
    "import pandas as pd\n",
    "import matplotlib.pyplot as plt"
   ]
  },
  {
   "cell_type": "markdown",
   "id": "f3c926aa",
   "metadata": {},
   "source": [
    "## Importing Data"
   ]
  },
  {
   "cell_type": "code",
   "execution_count": 11,
   "id": "76eebc09",
   "metadata": {},
   "outputs": [],
   "source": [
    "# Importing data\n",
    "# pandas provide API calls to easily load almost any format\n",
    "# of file into pandas DataFrame\n",
    "csv_df = pd.read_csv(\n",
    "    \"https://raw.githubusercontent.com/pandas-dev/pandas/master/doc/data/titanic.csv\"\n",
    ")"
   ]
  },
  {
   "cell_type": "code",
   "execution_count": 12,
   "id": "1bbb702e",
   "metadata": {},
   "outputs": [],
   "source": [
    "excel_df = pd.read_excel(\"https://github.com/KianYang-Lee/pandas-tutorial/blob/main/datasets/airline.xls?raw=true\")"
   ]
  },
  {
   "cell_type": "code",
   "execution_count": 5,
   "id": "07f6fc9e",
   "metadata": {},
   "outputs": [],
   "source": [
    "json_df = pd.read_json(\n",
    "    \"https://raw.githubusercontent.com/KianYang-Lee/pandas-tutorial/main/datasets/ct.json\",\n",
    "    lines=True,\n",
    ")"
   ]
  },
  {
   "cell_type": "markdown",
   "id": "e4f7a55e",
   "metadata": {},
   "source": [
    "## Exporting data"
   ]
  },
  {
   "cell_type": "code",
   "execution_count": 6,
   "id": "65b02c1a",
   "metadata": {},
   "outputs": [],
   "source": [
    "# exporting data into respective file format\n",
    "csv_df.to_csv(\"../datasets/Titanic_extracted.csv\")"
   ]
  },
  {
   "cell_type": "code",
   "execution_count": 7,
   "id": "a2c520bd",
   "metadata": {},
   "outputs": [],
   "source": [
    "csv_df.to_excel(\n",
    "    \"../datasets/Titanic_extracted.xlsx\", sheet_name=\"passengers\", index=False\n",
    ")"
   ]
  },
  {
   "cell_type": "code",
   "execution_count": 8,
   "id": "bc93f739",
   "metadata": {},
   "outputs": [],
   "source": [
    "excel_df.to_csv(\"../datasets/airlines_extracted.csv\")"
   ]
  },
  {
   "cell_type": "code",
   "execution_count": 9,
   "id": "dd225b8c",
   "metadata": {},
   "outputs": [],
   "source": [
    "json_df.to_json(\"../datasets/ct_extracted.json\")"
   ]
  },
  {
   "cell_type": "markdown",
   "id": "928b7fc8",
   "metadata": {},
   "source": [
    "## Intricacies"
   ]
  },
  {
   "cell_type": "code",
   "execution_count": 10,
   "id": "093412fa",
   "metadata": {},
   "outputs": [],
   "source": [
    "# read .xlsx file\n",
    "excelx_df = pd.read_excel(\"../datasets/Titanic_extracted.xlsx\", sheet_name=\"passengers\")"
   ]
  },
  {
   "cell_type": "markdown",
   "id": "46332646",
   "metadata": {},
   "source": [
    "## Practice Section"
   ]
  },
  {
   "cell_type": "markdown",
   "id": "b483d3de",
   "metadata": {},
   "source": [
    "1. Export the `DataFrame` that you have created in Chapter 1 to the `dataset/` folder in the form of `csv` file.\n",
    "2. Import the `csv` file created in Practice 1 into this environment."
   ]
  },
  {
   "cell_type": "markdown",
   "id": "c6bd406c",
   "metadata": {},
   "source": [
    "## Useful resources\n",
    "- https://www.kdnuggets.com/datasets/index.html\n",
    "- https://github.com/awesomedata/awesome-public-datasets\n",
    "- ct.json dataset source: https://www.bmc.com/blogs/pandas-read-json-csv-files/\n",
    "- airlines.csv dataset source: http://www.principlesofeconometrics.com/excel.htm\n",
    "- Pokemon.csv dataset source: https://www.kaggle.com/abcsds/pokemon\n",
    "- Titanic.csv dataset source: https://github.com/pandas-dev/pandas/blob/master/doc/data/titanic.csv\n",
    "- Financial Sample.xlsx dataset source: https://docs.microsoft.com/en-us/power-bi/create-reports/sample-financial-download"
   ]
  },
  {
   "cell_type": "markdown",
   "id": "163655af",
   "metadata": {},
   "source": [
    "**Copyright (C) 2021  Lee Kian Yang**\n",
    "\n",
    "This program is free software: you can redistribute it and/or modify\n",
    "it under the terms of the GNU General Public License as published by\n",
    "the Free Software Foundation, either version 3 of the License, or\n",
    "(at your option) any later version.\n",
    "\n",
    "This program is distributed in the hope that it will be useful,\n",
    "but WITHOUT ANY WARRANTY; without even the implied warranty of\n",
    "MERCHANTABILITY or FITNESS FOR A PARTICULAR PURPOSE.  See the\n",
    "GNU General Public License for more details.\n",
    "\n",
    "You should have received a copy of the GNU General Public License\n",
    "along with this program.  If not, see <http://www.gnu.org/licenses/>."
   ]
  }
 ],
 "metadata": {
  "kernelspec": {
   "display_name": "Python 3",
   "language": "python",
   "name": "python3"
  },
  "language_info": {
   "codemirror_mode": {
    "name": "ipython",
    "version": 3
   },
   "file_extension": ".py",
   "mimetype": "text/x-python",
   "name": "python",
   "nbconvert_exporter": "python",
   "pygments_lexer": "ipython3",
   "version": "3.7.10"
  }
 },
 "nbformat": 4,
 "nbformat_minor": 5
}
