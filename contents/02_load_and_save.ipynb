{
 "cells": [
  {
   "cell_type": "markdown",
   "id": "a4135468",
   "metadata": {},
   "source": [
    "# 02 - Load and Save"
   ]
  },
  {
   "cell_type": "markdown",
   "id": "5bd03a84",
   "metadata": {},
   "source": [
    "## Objectives:\n",
    "- Importing data\n",
    "- Exporting data"
   ]
  },
  {
   "cell_type": "markdown",
   "id": "15d62b8f",
   "metadata": {},
   "source": [
    "## Import Package"
   ]
  },
  {
   "cell_type": "code",
   "execution_count": 1,
   "id": "bd33e898",
   "metadata": {},
   "outputs": [],
   "source": [
    "# Import package as pandas does not ship along as native package\n",
    "# use pip install pandas if not installed yet, or follow setup guide\n",
    "\n",
    "import pandas as pd\n",
    "import matplotlib.pyplot as plt\n",
    "\n",
    "# for creating file directory\n",
    "import os"
   ]
  },
  {
   "cell_type": "markdown",
   "id": "f3c926aa",
   "metadata": {},
   "source": [
    "## Importing Data"
   ]
  },
  {
   "cell_type": "code",
   "execution_count": 2,
   "id": "76eebc09",
   "metadata": {},
   "outputs": [
    {
     "data": {
      "text/html": [
       "<div>\n",
       "<style scoped>\n",
       "    .dataframe tbody tr th:only-of-type {\n",
       "        vertical-align: middle;\n",
       "    }\n",
       "\n",
       "    .dataframe tbody tr th {\n",
       "        vertical-align: top;\n",
       "    }\n",
       "\n",
       "    .dataframe thead th {\n",
       "        text-align: right;\n",
       "    }\n",
       "</style>\n",
       "<table border=\"1\" class=\"dataframe\">\n",
       "  <thead>\n",
       "    <tr style=\"text-align: right;\">\n",
       "      <th></th>\n",
       "      <th>PassengerId</th>\n",
       "      <th>Survived</th>\n",
       "      <th>Pclass</th>\n",
       "      <th>Name</th>\n",
       "      <th>Sex</th>\n",
       "      <th>Age</th>\n",
       "      <th>SibSp</th>\n",
       "      <th>Parch</th>\n",
       "      <th>Ticket</th>\n",
       "      <th>Fare</th>\n",
       "      <th>Cabin</th>\n",
       "      <th>Embarked</th>\n",
       "    </tr>\n",
       "  </thead>\n",
       "  <tbody>\n",
       "    <tr>\n",
       "      <th>0</th>\n",
       "      <td>1</td>\n",
       "      <td>0</td>\n",
       "      <td>3</td>\n",
       "      <td>Braund, Mr. Owen Harris</td>\n",
       "      <td>male</td>\n",
       "      <td>22.0</td>\n",
       "      <td>1</td>\n",
       "      <td>0</td>\n",
       "      <td>A/5 21171</td>\n",
       "      <td>7.2500</td>\n",
       "      <td>NaN</td>\n",
       "      <td>S</td>\n",
       "    </tr>\n",
       "    <tr>\n",
       "      <th>1</th>\n",
       "      <td>2</td>\n",
       "      <td>1</td>\n",
       "      <td>1</td>\n",
       "      <td>Cumings, Mrs. John Bradley (Florence Briggs Th...</td>\n",
       "      <td>female</td>\n",
       "      <td>38.0</td>\n",
       "      <td>1</td>\n",
       "      <td>0</td>\n",
       "      <td>PC 17599</td>\n",
       "      <td>71.2833</td>\n",
       "      <td>C85</td>\n",
       "      <td>C</td>\n",
       "    </tr>\n",
       "    <tr>\n",
       "      <th>2</th>\n",
       "      <td>3</td>\n",
       "      <td>1</td>\n",
       "      <td>3</td>\n",
       "      <td>Heikkinen, Miss. Laina</td>\n",
       "      <td>female</td>\n",
       "      <td>26.0</td>\n",
       "      <td>0</td>\n",
       "      <td>0</td>\n",
       "      <td>STON/O2. 3101282</td>\n",
       "      <td>7.9250</td>\n",
       "      <td>NaN</td>\n",
       "      <td>S</td>\n",
       "    </tr>\n",
       "    <tr>\n",
       "      <th>3</th>\n",
       "      <td>4</td>\n",
       "      <td>1</td>\n",
       "      <td>1</td>\n",
       "      <td>Futrelle, Mrs. Jacques Heath (Lily May Peel)</td>\n",
       "      <td>female</td>\n",
       "      <td>35.0</td>\n",
       "      <td>1</td>\n",
       "      <td>0</td>\n",
       "      <td>113803</td>\n",
       "      <td>53.1000</td>\n",
       "      <td>C123</td>\n",
       "      <td>S</td>\n",
       "    </tr>\n",
       "    <tr>\n",
       "      <th>4</th>\n",
       "      <td>5</td>\n",
       "      <td>0</td>\n",
       "      <td>3</td>\n",
       "      <td>Allen, Mr. William Henry</td>\n",
       "      <td>male</td>\n",
       "      <td>35.0</td>\n",
       "      <td>0</td>\n",
       "      <td>0</td>\n",
       "      <td>373450</td>\n",
       "      <td>8.0500</td>\n",
       "      <td>NaN</td>\n",
       "      <td>S</td>\n",
       "    </tr>\n",
       "  </tbody>\n",
       "</table>\n",
       "</div>"
      ],
      "text/plain": [
       "   PassengerId  Survived  Pclass  \\\n",
       "0            1         0       3   \n",
       "1            2         1       1   \n",
       "2            3         1       3   \n",
       "3            4         1       1   \n",
       "4            5         0       3   \n",
       "\n",
       "                                                Name     Sex   Age  SibSp  \\\n",
       "0                            Braund, Mr. Owen Harris    male  22.0      1   \n",
       "1  Cumings, Mrs. John Bradley (Florence Briggs Th...  female  38.0      1   \n",
       "2                             Heikkinen, Miss. Laina  female  26.0      0   \n",
       "3       Futrelle, Mrs. Jacques Heath (Lily May Peel)  female  35.0      1   \n",
       "4                           Allen, Mr. William Henry    male  35.0      0   \n",
       "\n",
       "   Parch            Ticket     Fare Cabin Embarked  \n",
       "0      0         A/5 21171   7.2500   NaN        S  \n",
       "1      0          PC 17599  71.2833   C85        C  \n",
       "2      0  STON/O2. 3101282   7.9250   NaN        S  \n",
       "3      0            113803  53.1000  C123        S  \n",
       "4      0            373450   8.0500   NaN        S  "
      ]
     },
     "execution_count": 2,
     "metadata": {},
     "output_type": "execute_result"
    }
   ],
   "source": [
    "# Importing data\n",
    "# pandas provide API calls to easily load almost any format\n",
    "# of file into pandas DataFrame\n",
    "csv_df = pd.read_csv(\n",
    "    \"https://raw.githubusercontent.com/pandas-dev/pandas/master/doc/data/titanic.csv\"\n",
    ")\n",
    "csv_df.head()"
   ]
  },
  {
   "cell_type": "code",
   "execution_count": 3,
   "id": "1bbb702e",
   "metadata": {},
   "outputs": [
    {
     "data": {
      "text/html": [
       "<div>\n",
       "<style scoped>\n",
       "    .dataframe tbody tr th:only-of-type {\n",
       "        vertical-align: middle;\n",
       "    }\n",
       "\n",
       "    .dataframe tbody tr th {\n",
       "        vertical-align: top;\n",
       "    }\n",
       "\n",
       "    .dataframe thead th {\n",
       "        text-align: right;\n",
       "    }\n",
       "</style>\n",
       "<table border=\"1\" class=\"dataframe\">\n",
       "  <thead>\n",
       "    <tr style=\"text-align: right;\">\n",
       "      <th></th>\n",
       "      <th>YEAR</th>\n",
       "      <th>Y</th>\n",
       "      <th>W</th>\n",
       "      <th>R</th>\n",
       "      <th>L</th>\n",
       "      <th>K</th>\n",
       "    </tr>\n",
       "  </thead>\n",
       "  <tbody>\n",
       "    <tr>\n",
       "      <th>0</th>\n",
       "      <td>1948</td>\n",
       "      <td>1.214</td>\n",
       "      <td>0.243</td>\n",
       "      <td>0.1454</td>\n",
       "      <td>1.415</td>\n",
       "      <td>0.612</td>\n",
       "    </tr>\n",
       "    <tr>\n",
       "      <th>1</th>\n",
       "      <td>1949</td>\n",
       "      <td>1.354</td>\n",
       "      <td>0.260</td>\n",
       "      <td>0.2181</td>\n",
       "      <td>1.384</td>\n",
       "      <td>0.559</td>\n",
       "    </tr>\n",
       "    <tr>\n",
       "      <th>2</th>\n",
       "      <td>1950</td>\n",
       "      <td>1.569</td>\n",
       "      <td>0.278</td>\n",
       "      <td>0.3157</td>\n",
       "      <td>1.388</td>\n",
       "      <td>0.573</td>\n",
       "    </tr>\n",
       "    <tr>\n",
       "      <th>3</th>\n",
       "      <td>1951</td>\n",
       "      <td>1.948</td>\n",
       "      <td>0.297</td>\n",
       "      <td>0.3940</td>\n",
       "      <td>1.550</td>\n",
       "      <td>0.564</td>\n",
       "    </tr>\n",
       "    <tr>\n",
       "      <th>4</th>\n",
       "      <td>1952</td>\n",
       "      <td>2.265</td>\n",
       "      <td>0.310</td>\n",
       "      <td>0.3559</td>\n",
       "      <td>1.802</td>\n",
       "      <td>0.574</td>\n",
       "    </tr>\n",
       "  </tbody>\n",
       "</table>\n",
       "</div>"
      ],
      "text/plain": [
       "   YEAR      Y      W       R      L      K\n",
       "0  1948  1.214  0.243  0.1454  1.415  0.612\n",
       "1  1949  1.354  0.260  0.2181  1.384  0.559\n",
       "2  1950  1.569  0.278  0.3157  1.388  0.573\n",
       "3  1951  1.948  0.297  0.3940  1.550  0.564\n",
       "4  1952  2.265  0.310  0.3559  1.802  0.574"
      ]
     },
     "execution_count": 3,
     "metadata": {},
     "output_type": "execute_result"
    }
   ],
   "source": [
    "excel_df = pd.read_excel(\"https://github.com/KianYang-Lee/pandas-tutorial/blob/main/datasets/airline.xls?raw=true\")\n",
    "excel_df.head()"
   ]
  },
  {
   "cell_type": "code",
   "execution_count": 4,
   "id": "07f6fc9e",
   "metadata": {},
   "outputs": [
    {
     "data": {
      "text/html": [
       "<div>\n",
       "<style scoped>\n",
       "    .dataframe tbody tr th:only-of-type {\n",
       "        vertical-align: middle;\n",
       "    }\n",
       "\n",
       "    .dataframe tbody tr th {\n",
       "        vertical-align: top;\n",
       "    }\n",
       "\n",
       "    .dataframe thead th {\n",
       "        text-align: right;\n",
       "    }\n",
       "</style>\n",
       "<table border=\"1\" class=\"dataframe\">\n",
       "  <thead>\n",
       "    <tr style=\"text-align: right;\">\n",
       "      <th></th>\n",
       "      <th>state</th>\n",
       "      <th>postcode</th>\n",
       "      <th>street</th>\n",
       "      <th>district</th>\n",
       "      <th>unit</th>\n",
       "      <th>location</th>\n",
       "      <th>region</th>\n",
       "      <th>number</th>\n",
       "      <th>city</th>\n",
       "    </tr>\n",
       "  </thead>\n",
       "  <tbody>\n",
       "    <tr>\n",
       "      <th>0</th>\n",
       "      <td>CT</td>\n",
       "      <td>6457</td>\n",
       "      <td>Country Club Rd</td>\n",
       "      <td></td>\n",
       "      <td></td>\n",
       "      <td>{'type': 'Point', 'coordinates': [-72.7277847,...</td>\n",
       "      <td>Middlesex</td>\n",
       "      <td>1111</td>\n",
       "      <td>Middletown</td>\n",
       "    </tr>\n",
       "    <tr>\n",
       "      <th>1</th>\n",
       "      <td>CT</td>\n",
       "      <td>6037</td>\n",
       "      <td>Parish Dr</td>\n",
       "      <td></td>\n",
       "      <td></td>\n",
       "      <td>{'type': 'Point', 'coordinates': [-72.7738706,...</td>\n",
       "      <td>Hartford</td>\n",
       "      <td>51</td>\n",
       "      <td>Berlin</td>\n",
       "    </tr>\n",
       "    <tr>\n",
       "      <th>2</th>\n",
       "      <td>CT</td>\n",
       "      <td>6037</td>\n",
       "      <td>Stockings Brook Rd</td>\n",
       "      <td></td>\n",
       "      <td></td>\n",
       "      <td>{'type': 'Point', 'coordinates': [-72.8102478,...</td>\n",
       "      <td>Hartford</td>\n",
       "      <td>90</td>\n",
       "      <td>Berlin</td>\n",
       "    </tr>\n",
       "    <tr>\n",
       "      <th>3</th>\n",
       "      <td>CT</td>\n",
       "      <td>6037</td>\n",
       "      <td>Lamentation Dr</td>\n",
       "      <td></td>\n",
       "      <td></td>\n",
       "      <td>{'type': 'Point', 'coordinates': [-72.7450054,...</td>\n",
       "      <td>Hartford</td>\n",
       "      <td>99</td>\n",
       "      <td>Berlin</td>\n",
       "    </tr>\n",
       "    <tr>\n",
       "      <th>4</th>\n",
       "      <td>CT</td>\n",
       "      <td>6037</td>\n",
       "      <td>Lamentation Dr</td>\n",
       "      <td></td>\n",
       "      <td></td>\n",
       "      <td>{'type': 'Point', 'coordinates': [-72.7406975,...</td>\n",
       "      <td>Hartford</td>\n",
       "      <td>207</td>\n",
       "      <td>Berlin</td>\n",
       "    </tr>\n",
       "  </tbody>\n",
       "</table>\n",
       "</div>"
      ],
      "text/plain": [
       "  state  postcode              street district unit  \\\n",
       "0    CT      6457     Country Club Rd                 \n",
       "1    CT      6037           Parish Dr                 \n",
       "2    CT      6037  Stockings Brook Rd                 \n",
       "3    CT      6037      Lamentation Dr                 \n",
       "4    CT      6037      Lamentation Dr                 \n",
       "\n",
       "                                            location     region  number  \\\n",
       "0  {'type': 'Point', 'coordinates': [-72.7277847,...  Middlesex    1111   \n",
       "1  {'type': 'Point', 'coordinates': [-72.7738706,...   Hartford      51   \n",
       "2  {'type': 'Point', 'coordinates': [-72.8102478,...   Hartford      90   \n",
       "3  {'type': 'Point', 'coordinates': [-72.7450054,...   Hartford      99   \n",
       "4  {'type': 'Point', 'coordinates': [-72.7406975,...   Hartford     207   \n",
       "\n",
       "         city  \n",
       "0  Middletown  \n",
       "1      Berlin  \n",
       "2      Berlin  \n",
       "3      Berlin  \n",
       "4      Berlin  "
      ]
     },
     "execution_count": 4,
     "metadata": {},
     "output_type": "execute_result"
    }
   ],
   "source": [
    "json_df = pd.read_json(\n",
    "    \"https://raw.githubusercontent.com/KianYang-Lee/pandas-tutorial/main/datasets/ct.json\",\n",
    "    lines=True,\n",
    ")\n",
    "json_df.head()"
   ]
  },
  {
   "cell_type": "markdown",
   "id": "e4f7a55e",
   "metadata": {},
   "source": [
    "## Exporting data"
   ]
  },
  {
   "cell_type": "code",
   "execution_count": 5,
   "id": "65b02c1a",
   "metadata": {},
   "outputs": [],
   "source": [
    "# exporting data into respective file format\n",
    "try:\n",
    "    csv_df.to_csv(\"exports/Titanic_extracted.csv\")\n",
    "except FileNotFoundError as e:\n",
    "    os.mkdir(os.getcwd() + \"/exports\")\n",
    "    csv_df.to_csv(\"exports/Titanic_extracted.csv\")"
   ]
  },
  {
   "cell_type": "code",
   "execution_count": 6,
   "id": "a2c520bd",
   "metadata": {},
   "outputs": [],
   "source": [
    "csv_df.to_excel(\n",
    "    \"./exports/Titanic_extracted.xlsx\", sheet_name=\"passengers\", index=False\n",
    ")"
   ]
  },
  {
   "cell_type": "code",
   "execution_count": 7,
   "id": "bc93f739",
   "metadata": {},
   "outputs": [],
   "source": [
    "excel_df.to_csv(\"./exports/airlines_extracted.csv\")"
   ]
  },
  {
   "cell_type": "code",
   "execution_count": 8,
   "id": "dd225b8c",
   "metadata": {},
   "outputs": [],
   "source": [
    "json_df.to_json(\"./exports/ct_extracted.json\")"
   ]
  },
  {
   "cell_type": "markdown",
   "id": "928b7fc8",
   "metadata": {},
   "source": [
    "## Intricacies"
   ]
  },
  {
   "cell_type": "code",
   "execution_count": 9,
   "id": "093412fa",
   "metadata": {},
   "outputs": [],
   "source": [
    "# read .xlsx file\n",
    "excelx_df = pd.read_excel(\"./exports/Titanic_extracted.xlsx\", sheet_name=\"passengers\")"
   ]
  },
  {
   "cell_type": "markdown",
   "id": "46332646",
   "metadata": {},
   "source": [
    "## Practice Section"
   ]
  },
  {
   "cell_type": "markdown",
   "id": "b483d3de",
   "metadata": {},
   "source": [
    "1. Export the `DataFrame` that you have created in Chapter 1 to the `exports/` folder in the form of `csv` file.\n",
    "2. Import the `csv` file created in Practice 1 into this environment."
   ]
  },
  {
   "cell_type": "markdown",
   "id": "c6bd406c",
   "metadata": {},
   "source": [
    "## Useful resources\n",
    "- https://www.kdnuggets.com/datasets/index.html\n",
    "- https://github.com/awesomedata/awesome-public-datasets\n",
    "- ct.json dataset source: https://www.bmc.com/blogs/pandas-read-json-csv-files/\n",
    "- airlines.csv dataset source: http://www.principlesofeconometrics.com/excel.htm\n",
    "- Pokemon.csv dataset source: https://www.kaggle.com/abcsds/pokemon\n",
    "- Titanic.csv dataset source: https://github.com/pandas-dev/pandas/blob/master/doc/data/titanic.csv"
   ]
  },
  {
   "cell_type": "markdown",
   "id": "163655af",
   "metadata": {},
   "source": [
    "**Copyright (C) 2021  Lee Kian Yang**\n",
    "\n",
    "This program is licensed under MIT license."
   ]
  }
 ],
 "metadata": {
  "kernelspec": {
   "display_name": "Python 3",
   "language": "python",
   "name": "python3"
  },
  "language_info": {
   "codemirror_mode": {
    "name": "ipython",
    "version": 3
   },
   "file_extension": ".py",
   "mimetype": "text/x-python",
   "name": "python",
   "nbconvert_exporter": "python",
   "pygments_lexer": "ipython3",
   "version": "3.7.10"
  }
 },
 "nbformat": 4,
 "nbformat_minor": 5
}
