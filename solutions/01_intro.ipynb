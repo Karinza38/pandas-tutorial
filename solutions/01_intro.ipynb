{
 "cells": [
  {
   "cell_type": "markdown",
   "metadata": {},
   "source": [
    "# 01 - Intro to Pandas"
   ]
  },
  {
   "cell_type": "markdown",
   "metadata": {},
   "source": [
    "## Objectives:\n",
    "- Introduction about Jupyter Environment\n",
    "- Refresher on Python\n",
    "- Pandas data structure (Series and DataFrame)"
   ]
  },
  {
   "cell_type": "markdown",
   "metadata": {},
   "source": [
    "## Importing Packages"
   ]
  },
  {
   "cell_type": "code",
   "execution_count": 1,
   "metadata": {},
   "outputs": [],
   "source": [
    "import pandas as pd"
   ]
  },
  {
   "cell_type": "markdown",
   "metadata": {},
   "source": [
    "## Practice Section (15 minutes)"
   ]
  },
  {
   "cell_type": "markdown",
   "metadata": {},
   "source": [
    "1. Create a `Series` object with `int64` data type and size of 5. Give it a unique name.\n",
    "2. Create a `Series` object with `float64` data type and size of 8. Give it a unique name.\n",
    "3. Create a `Series` object with `object` data type and size of 3. Give it a unique name.\n",
    "4. Create a `DataFrame` object with all `int64` data type and shape of `(5,2)`.\n",
    "5. Create a `DataFrame` object with `float64`, `float64` and `object` data type and shape of `(8,3)`, columns in that order. Make use of the `Series` object created in Practice 1, 2, and 3."
   ]
  },
  {
   "cell_type": "code",
   "execution_count": 17,
   "metadata": {},
   "outputs": [
    {
     "data": {
      "text/plain": [
       "0    100\n",
       "1    200\n",
       "2    300\n",
       "3    400\n",
       "4    500\n",
       "Name: int_series, dtype: int64"
      ]
     },
     "execution_count": 17,
     "metadata": {},
     "output_type": "execute_result"
    }
   ],
   "source": [
    "# 1. Create a Series object with int64 data type and size of 5. Give it a unique name.\n",
    "series_1 = pd.Series([100,200,300,400,500], dtype='int64', name='int_series')\n",
    "series_1"
   ]
  },
  {
   "cell_type": "code",
   "execution_count": 18,
   "metadata": {},
   "outputs": [
    {
     "data": {
      "text/plain": [
       "0    0.1\n",
       "1    0.2\n",
       "2    0.3\n",
       "3    0.4\n",
       "4    0.5\n",
       "5    0.6\n",
       "6    0.7\n",
       "7    0.8\n",
       "Name: float_series, dtype: float64"
      ]
     },
     "execution_count": 18,
     "metadata": {},
     "output_type": "execute_result"
    }
   ],
   "source": [
    "# 2. Create a `Series` object with `float64` data type and size of 8. Give it a unique name.\n",
    "series_2 = pd.Series([.1,.2,.3,.4,.5,.6,.7,.8], dtype='float64', name='float_series')\n",
    "series_2"
   ]
  },
  {
   "cell_type": "code",
   "execution_count": 19,
   "metadata": {},
   "outputs": [
    {
     "data": {
      "text/plain": [
       "0             Vincenzo\n",
       "1           Squid Game\n",
       "2    Hospital Playlist\n",
       "Name: kdrama_2021, dtype: object"
      ]
     },
     "execution_count": 19,
     "metadata": {},
     "output_type": "execute_result"
    }
   ],
   "source": [
    "# 3. Create a `Series` object with `object` data type and size of 3. Give it a unique name\n",
    "series_3 = pd.Series(['Vincenzo', 'Squid Game', 'Hospital Playlist'], dtype='object', name='kdrama_2021')\n",
    "series_3"
   ]
  },
  {
   "cell_type": "code",
   "execution_count": 20,
   "metadata": {
    "scrolled": true
   },
   "outputs": [
    {
     "data": {
      "text/html": [
       "<div>\n",
       "<style scoped>\n",
       "    .dataframe tbody tr th:only-of-type {\n",
       "        vertical-align: middle;\n",
       "    }\n",
       "\n",
       "    .dataframe tbody tr th {\n",
       "        vertical-align: top;\n",
       "    }\n",
       "\n",
       "    .dataframe thead th {\n",
       "        text-align: right;\n",
       "    }\n",
       "</style>\n",
       "<table border=\"1\" class=\"dataframe\">\n",
       "  <thead>\n",
       "    <tr style=\"text-align: right;\">\n",
       "      <th></th>\n",
       "      <th>col_1</th>\n",
       "      <th>col_2</th>\n",
       "    </tr>\n",
       "  </thead>\n",
       "  <tbody>\n",
       "    <tr>\n",
       "      <th>0</th>\n",
       "      <td>0</td>\n",
       "      <td>0</td>\n",
       "    </tr>\n",
       "    <tr>\n",
       "      <th>1</th>\n",
       "      <td>333</td>\n",
       "      <td>1</td>\n",
       "    </tr>\n",
       "    <tr>\n",
       "      <th>2</th>\n",
       "      <td>666</td>\n",
       "      <td>2</td>\n",
       "    </tr>\n",
       "    <tr>\n",
       "      <th>3</th>\n",
       "      <td>999</td>\n",
       "      <td>3</td>\n",
       "    </tr>\n",
       "    <tr>\n",
       "      <th>4</th>\n",
       "      <td>1234</td>\n",
       "      <td>4</td>\n",
       "    </tr>\n",
       "  </tbody>\n",
       "</table>\n",
       "</div>"
      ],
      "text/plain": [
       "   col_1  col_2\n",
       "0      0      0\n",
       "1    333      1\n",
       "2    666      2\n",
       "3    999      3\n",
       "4   1234      4"
      ]
     },
     "execution_count": 20,
     "metadata": {},
     "output_type": "execute_result"
    }
   ],
   "source": [
    "# 4. Create a `DataFrame` object with all `int64` data type and shape of `(5,2)`.\n",
    "dataframe_4 = pd.DataFrame(\n",
    "    {\n",
    "        \"col_1\": [0,333,666,999,1234],\n",
    "        \"col_2\": range(5)\n",
    "    }, dtype='int64'\n",
    ")\n",
    "dataframe_4"
   ]
  },
  {
   "cell_type": "code",
   "execution_count": 21,
   "metadata": {},
   "outputs": [
    {
     "data": {
      "text/html": [
       "<div>\n",
       "<style scoped>\n",
       "    .dataframe tbody tr th:only-of-type {\n",
       "        vertical-align: middle;\n",
       "    }\n",
       "\n",
       "    .dataframe tbody tr th {\n",
       "        vertical-align: top;\n",
       "    }\n",
       "\n",
       "    .dataframe thead th {\n",
       "        text-align: right;\n",
       "    }\n",
       "</style>\n",
       "<table border=\"1\" class=\"dataframe\">\n",
       "  <thead>\n",
       "    <tr style=\"text-align: right;\">\n",
       "      <th></th>\n",
       "      <th>int_series</th>\n",
       "      <th>float_series</th>\n",
       "      <th>kdrama_2021</th>\n",
       "    </tr>\n",
       "  </thead>\n",
       "  <tbody>\n",
       "    <tr>\n",
       "      <th>0</th>\n",
       "      <td>100.0</td>\n",
       "      <td>0.1</td>\n",
       "      <td>Vincenzo</td>\n",
       "    </tr>\n",
       "    <tr>\n",
       "      <th>1</th>\n",
       "      <td>200.0</td>\n",
       "      <td>0.2</td>\n",
       "      <td>Squid Game</td>\n",
       "    </tr>\n",
       "    <tr>\n",
       "      <th>2</th>\n",
       "      <td>300.0</td>\n",
       "      <td>0.3</td>\n",
       "      <td>Hospital Playlist</td>\n",
       "    </tr>\n",
       "    <tr>\n",
       "      <th>3</th>\n",
       "      <td>400.0</td>\n",
       "      <td>0.4</td>\n",
       "      <td>NaN</td>\n",
       "    </tr>\n",
       "    <tr>\n",
       "      <th>4</th>\n",
       "      <td>500.0</td>\n",
       "      <td>0.5</td>\n",
       "      <td>NaN</td>\n",
       "    </tr>\n",
       "    <tr>\n",
       "      <th>5</th>\n",
       "      <td>NaN</td>\n",
       "      <td>0.6</td>\n",
       "      <td>NaN</td>\n",
       "    </tr>\n",
       "    <tr>\n",
       "      <th>6</th>\n",
       "      <td>NaN</td>\n",
       "      <td>0.7</td>\n",
       "      <td>NaN</td>\n",
       "    </tr>\n",
       "    <tr>\n",
       "      <th>7</th>\n",
       "      <td>NaN</td>\n",
       "      <td>0.8</td>\n",
       "      <td>NaN</td>\n",
       "    </tr>\n",
       "  </tbody>\n",
       "</table>\n",
       "</div>"
      ],
      "text/plain": [
       "   int_series  float_series        kdrama_2021\n",
       "0       100.0           0.1           Vincenzo\n",
       "1       200.0           0.2         Squid Game\n",
       "2       300.0           0.3  Hospital Playlist\n",
       "3       400.0           0.4                NaN\n",
       "4       500.0           0.5                NaN\n",
       "5         NaN           0.6                NaN\n",
       "6         NaN           0.7                NaN\n",
       "7         NaN           0.8                NaN"
      ]
     },
     "execution_count": 21,
     "metadata": {},
     "output_type": "execute_result"
    }
   ],
   "source": [
    "# 5. Create a `DataFrame` object with `float64`, `float64` and `object` data type and \n",
    "# shape of `(8,3)`, columns in that order. \n",
    "# Make use of the `Series` object created in Practice 1, 2, and 3.\n",
    "dataframe_5 = pd.DataFrame({\n",
    "    series_1.name: series_1,\n",
    "    series_2.name: series_2,\n",
    "    series_3.name: series_3\n",
    "})\n",
    "dataframe_5"
   ]
  },
  {
   "cell_type": "code",
   "execution_count": 26,
   "metadata": {},
   "outputs": [],
   "source": [
    "# 02_load_and_save\n",
    "# 1. Export the `DataFrame` that you have created in Chapter 1 to the `exports/` folder in the form of `csv` file.\n",
    "try:\n",
    "    dataframe_5.to_csv(\"exports/dataframe_5.csv\", index_label=False)\n",
    "except FileNotFoundError as e:\n",
    "    import os\n",
    "    os.mkdir(\"exports\")\n",
    "    dataframe_5.to_csv(\"exports/dataframe_5.csv\", index_label=False)"
   ]
  },
  {
   "cell_type": "markdown",
   "metadata": {},
   "source": [
    "**Copyright (C) 2021  Lee Kian Yang**\n",
    "\n",
    "This program is licensed under MIT license."
   ]
  }
 ],
 "metadata": {
  "kernelspec": {
   "display_name": "Python 3",
   "language": "python",
   "name": "python3"
  },
  "language_info": {
   "codemirror_mode": {
    "name": "ipython",
    "version": 3
   },
   "file_extension": ".py",
   "mimetype": "text/x-python",
   "name": "python",
   "nbconvert_exporter": "python",
   "pygments_lexer": "ipython3",
   "version": "3.7.10"
  }
 },
 "nbformat": 4,
 "nbformat_minor": 2
}
