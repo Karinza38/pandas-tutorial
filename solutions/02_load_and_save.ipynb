{
 "cells": [
  {
   "cell_type": "markdown",
   "id": "a4135468",
   "metadata": {},
   "source": [
    "# 02 - Load and Save"
   ]
  },
  {
   "cell_type": "markdown",
   "id": "5bd03a84",
   "metadata": {},
   "source": [
    "## Objectives:\n",
    "- Importing data\n",
    "- Exporting data"
   ]
  },
  {
   "cell_type": "markdown",
   "id": "15d62b8f",
   "metadata": {},
   "source": [
    "## Import Package"
   ]
  },
  {
   "cell_type": "code",
   "execution_count": 2,
   "id": "bd33e898",
   "metadata": {},
   "outputs": [],
   "source": [
    "import pandas as pd"
   ]
  },
  {
   "cell_type": "markdown",
   "id": "46332646",
   "metadata": {},
   "source": [
    "## Practice Section"
   ]
  },
  {
   "cell_type": "markdown",
   "id": "b483d3de",
   "metadata": {},
   "source": [
    "1. Export the `DataFrame` that you have created in Chapter 1 to the `dataset/` folder in the form of `csv` file.\n",
    "2. Import the `csv` file created in Practice 1 into this environment."
   ]
  },
  {
   "cell_type": "code",
   "execution_count": 3,
   "id": "360349ac",
   "metadata": {},
   "outputs": [],
   "source": [
    "# 1. Export the `DataFrame` that you have created in Chapter 1 to the `dataset/` folder in the form of `csv` file.\n",
    "# Refer to solution in `01_intro`"
   ]
  },
  {
   "cell_type": "code",
   "execution_count": 5,
   "id": "b352c436",
   "metadata": {},
   "outputs": [
    {
     "data": {
      "text/html": [
       "<div>\n",
       "<style scoped>\n",
       "    .dataframe tbody tr th:only-of-type {\n",
       "        vertical-align: middle;\n",
       "    }\n",
       "\n",
       "    .dataframe tbody tr th {\n",
       "        vertical-align: top;\n",
       "    }\n",
       "\n",
       "    .dataframe thead th {\n",
       "        text-align: right;\n",
       "    }\n",
       "</style>\n",
       "<table border=\"1\" class=\"dataframe\">\n",
       "  <thead>\n",
       "    <tr style=\"text-align: right;\">\n",
       "      <th></th>\n",
       "      <th>int_series</th>\n",
       "      <th>float_series</th>\n",
       "      <th>kdrama_2021</th>\n",
       "    </tr>\n",
       "  </thead>\n",
       "  <tbody>\n",
       "    <tr>\n",
       "      <th>0</th>\n",
       "      <td>100.0</td>\n",
       "      <td>0.1</td>\n",
       "      <td>Vincenzo</td>\n",
       "    </tr>\n",
       "    <tr>\n",
       "      <th>1</th>\n",
       "      <td>200.0</td>\n",
       "      <td>0.2</td>\n",
       "      <td>Squid Game</td>\n",
       "    </tr>\n",
       "    <tr>\n",
       "      <th>2</th>\n",
       "      <td>300.0</td>\n",
       "      <td>0.3</td>\n",
       "      <td>Hospital Playlist</td>\n",
       "    </tr>\n",
       "    <tr>\n",
       "      <th>3</th>\n",
       "      <td>400.0</td>\n",
       "      <td>0.4</td>\n",
       "      <td>NaN</td>\n",
       "    </tr>\n",
       "    <tr>\n",
       "      <th>4</th>\n",
       "      <td>500.0</td>\n",
       "      <td>0.5</td>\n",
       "      <td>NaN</td>\n",
       "    </tr>\n",
       "    <tr>\n",
       "      <th>5</th>\n",
       "      <td>NaN</td>\n",
       "      <td>0.6</td>\n",
       "      <td>NaN</td>\n",
       "    </tr>\n",
       "    <tr>\n",
       "      <th>6</th>\n",
       "      <td>NaN</td>\n",
       "      <td>0.7</td>\n",
       "      <td>NaN</td>\n",
       "    </tr>\n",
       "    <tr>\n",
       "      <th>7</th>\n",
       "      <td>NaN</td>\n",
       "      <td>0.8</td>\n",
       "      <td>NaN</td>\n",
       "    </tr>\n",
       "  </tbody>\n",
       "</table>\n",
       "</div>"
      ],
      "text/plain": [
       "   int_series  float_series        kdrama_2021\n",
       "0       100.0           0.1           Vincenzo\n",
       "1       200.0           0.2         Squid Game\n",
       "2       300.0           0.3  Hospital Playlist\n",
       "3       400.0           0.4                NaN\n",
       "4       500.0           0.5                NaN\n",
       "5         NaN           0.6                NaN\n",
       "6         NaN           0.7                NaN\n",
       "7         NaN           0.8                NaN"
      ]
     },
     "execution_count": 5,
     "metadata": {},
     "output_type": "execute_result"
    }
   ],
   "source": [
    "# 2. Import the `csv` file created in Practice 1 into this environment.\n",
    "df = pd.read_csv(\"exports/dataframe_5.csv\")\n",
    "df"
   ]
  },
  {
   "cell_type": "markdown",
   "id": "163655af",
   "metadata": {},
   "source": [
    "**Copyright (C) 2021  Lee Kian Yang**\n",
    "\n",
    "This program is licensed under MIT license."
   ]
  }
 ],
 "metadata": {
  "kernelspec": {
   "display_name": "Python 3",
   "language": "python",
   "name": "python3"
  },
  "language_info": {
   "codemirror_mode": {
    "name": "ipython",
    "version": 3
   },
   "file_extension": ".py",
   "mimetype": "text/x-python",
   "name": "python",
   "nbconvert_exporter": "python",
   "pygments_lexer": "ipython3",
   "version": "3.7.10"
  }
 },
 "nbformat": 4,
 "nbformat_minor": 5
}
