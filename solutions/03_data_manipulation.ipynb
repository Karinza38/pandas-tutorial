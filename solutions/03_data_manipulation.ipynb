{
 "cells": [
  {
   "cell_type": "markdown",
   "id": "a4135468",
   "metadata": {},
   "source": [
    "# 03 - Data Manipulation"
   ]
  },
  {
   "cell_type": "markdown",
   "id": "15d62b8f",
   "metadata": {},
   "source": [
    "## Import Package"
   ]
  },
  {
   "cell_type": "code",
   "execution_count": 5,
   "id": "bd33e898",
   "metadata": {},
   "outputs": [],
   "source": [
    "import pandas as pd"
   ]
  },
  {
   "cell_type": "code",
   "execution_count": 6,
   "id": "5efe085d",
   "metadata": {},
   "outputs": [
    {
     "data": {
      "text/html": [
       "<div>\n",
       "<style scoped>\n",
       "    .dataframe tbody tr th:only-of-type {\n",
       "        vertical-align: middle;\n",
       "    }\n",
       "\n",
       "    .dataframe tbody tr th {\n",
       "        vertical-align: top;\n",
       "    }\n",
       "\n",
       "    .dataframe thead th {\n",
       "        text-align: right;\n",
       "    }\n",
       "</style>\n",
       "<table border=\"1\" class=\"dataframe\">\n",
       "  <thead>\n",
       "    <tr style=\"text-align: right;\">\n",
       "      <th></th>\n",
       "      <th>#</th>\n",
       "      <th>Name</th>\n",
       "      <th>Type 1</th>\n",
       "      <th>Type 2</th>\n",
       "      <th>Total</th>\n",
       "      <th>HP</th>\n",
       "      <th>Attack</th>\n",
       "      <th>Defense</th>\n",
       "      <th>Sp. Atk</th>\n",
       "      <th>Sp. Def</th>\n",
       "      <th>Speed</th>\n",
       "      <th>Generation</th>\n",
       "      <th>Legendary</th>\n",
       "    </tr>\n",
       "  </thead>\n",
       "  <tbody>\n",
       "    <tr>\n",
       "      <th>0</th>\n",
       "      <td>1</td>\n",
       "      <td>Bulbasaur</td>\n",
       "      <td>Grass</td>\n",
       "      <td>Poison</td>\n",
       "      <td>318</td>\n",
       "      <td>45</td>\n",
       "      <td>49</td>\n",
       "      <td>49</td>\n",
       "      <td>65</td>\n",
       "      <td>65</td>\n",
       "      <td>45</td>\n",
       "      <td>1</td>\n",
       "      <td>False</td>\n",
       "    </tr>\n",
       "    <tr>\n",
       "      <th>1</th>\n",
       "      <td>2</td>\n",
       "      <td>Ivysaur</td>\n",
       "      <td>Grass</td>\n",
       "      <td>Poison</td>\n",
       "      <td>405</td>\n",
       "      <td>60</td>\n",
       "      <td>62</td>\n",
       "      <td>63</td>\n",
       "      <td>80</td>\n",
       "      <td>80</td>\n",
       "      <td>60</td>\n",
       "      <td>1</td>\n",
       "      <td>False</td>\n",
       "    </tr>\n",
       "    <tr>\n",
       "      <th>2</th>\n",
       "      <td>3</td>\n",
       "      <td>Venusaur</td>\n",
       "      <td>Grass</td>\n",
       "      <td>Poison</td>\n",
       "      <td>525</td>\n",
       "      <td>80</td>\n",
       "      <td>82</td>\n",
       "      <td>83</td>\n",
       "      <td>100</td>\n",
       "      <td>100</td>\n",
       "      <td>80</td>\n",
       "      <td>1</td>\n",
       "      <td>False</td>\n",
       "    </tr>\n",
       "    <tr>\n",
       "      <th>3</th>\n",
       "      <td>3</td>\n",
       "      <td>VenusaurMega Venusaur</td>\n",
       "      <td>Grass</td>\n",
       "      <td>Poison</td>\n",
       "      <td>625</td>\n",
       "      <td>80</td>\n",
       "      <td>100</td>\n",
       "      <td>123</td>\n",
       "      <td>122</td>\n",
       "      <td>120</td>\n",
       "      <td>80</td>\n",
       "      <td>1</td>\n",
       "      <td>False</td>\n",
       "    </tr>\n",
       "    <tr>\n",
       "      <th>4</th>\n",
       "      <td>4</td>\n",
       "      <td>Charmander</td>\n",
       "      <td>Fire</td>\n",
       "      <td>NaN</td>\n",
       "      <td>309</td>\n",
       "      <td>39</td>\n",
       "      <td>52</td>\n",
       "      <td>43</td>\n",
       "      <td>60</td>\n",
       "      <td>50</td>\n",
       "      <td>65</td>\n",
       "      <td>1</td>\n",
       "      <td>False</td>\n",
       "    </tr>\n",
       "  </tbody>\n",
       "</table>\n",
       "</div>"
      ],
      "text/plain": [
       "   #                   Name Type 1  Type 2  Total  HP  Attack  Defense  \\\n",
       "0  1              Bulbasaur  Grass  Poison    318  45      49       49   \n",
       "1  2                Ivysaur  Grass  Poison    405  60      62       63   \n",
       "2  3               Venusaur  Grass  Poison    525  80      82       83   \n",
       "3  3  VenusaurMega Venusaur  Grass  Poison    625  80     100      123   \n",
       "4  4             Charmander   Fire     NaN    309  39      52       43   \n",
       "\n",
       "   Sp. Atk  Sp. Def  Speed  Generation  Legendary  \n",
       "0       65       65     45           1      False  \n",
       "1       80       80     60           1      False  \n",
       "2      100      100     80           1      False  \n",
       "3      122      120     80           1      False  \n",
       "4       60       50     65           1      False  "
      ]
     },
     "execution_count": 6,
     "metadata": {},
     "output_type": "execute_result"
    }
   ],
   "source": [
    "dataframe = pd.read_csv(\"https://raw.githubusercontent.com/KianYang-Lee/pandas-tutorial/main/datasets/Pokemon.csv\")\n",
    "dataframe.head()"
   ]
  },
  {
   "cell_type": "markdown",
   "id": "01ad688f",
   "metadata": {},
   "source": [
    "## Practice Section"
   ]
  },
  {
   "cell_type": "markdown",
   "id": "0fdaecbf",
   "metadata": {},
   "source": [
    "1. Subset the following columns and assign them to another variable.\n",
    "- Sp. Atk\n",
    "- Sp. Def\n",
    "- Speed\n",
    "\n",
    "2. Find all attributes in Question 1 of the following Pokemon and assign to a variable respectively.\n",
    "eg. Diglet 35 10 70\n",
    "- Mewtwo\n",
    "- Ratata\n",
    "- Pikachu\n",
    "\n",
    "3. Assign the information listed in Question 1 of the Pokemon with the following index as `DataFrame` to another variable.\n",
    "- 50\n",
    "- 100\n",
    "- 150\n",
    "\n",
    "4. Modify the `Attack` and `Defense` of `Snorlax` to 300.\n",
    "5. Create a subset of the original `DataFrame` containing only the First Generation Pokemon, and assign it to another variable.\n",
    "6. Create a subset of the original `DataFrame` containing only the Second Generation Pokemon with `Sp. Atk` **and** `Sp. Def` of at least 100. Assign the `DataFrame` to another variable.\n",
    "7. Create a subset of the original `DataFrame` containing only the Second Generation Pokemon with `Sp. Atk` **or** `Sp. Def` of at least 100. Assign the `DataFrame` to another variable."
   ]
  },
  {
   "cell_type": "code",
   "execution_count": 8,
   "id": "75ea37e6",
   "metadata": {},
   "outputs": [],
   "source": [
    "# 1. Subset the following columns and assign them to another variable.\n",
    "# - Sp. Atk\n",
    "# - Sp. Def\n",
    "# - Speed\n",
    "pokemon_sp_atk = dataframe[\"Sp. Atk\"]\n",
    "pokemon_sp_def = dataframe[\"Sp. Def\"]\n",
    "pokemon_speed = dataframe.Speed"
   ]
  },
  {
   "cell_type": "code",
   "execution_count": 14,
   "id": "b1a42617",
   "metadata": {},
   "outputs": [],
   "source": [
    "dataframe_index_is_name = dataframe.set_index(\"Name\")"
   ]
  },
  {
   "cell_type": "code",
   "execution_count": 21,
   "id": "a9948965",
   "metadata": {},
   "outputs": [],
   "source": [
    "# 2. Find all attributes in Question 1 of the following Pokemon and assign to a variable respectively.\n",
    "# eg. Diglet 35 10 70\n",
    "# - Mewtwo\n",
    "# - Ratata\n",
    "# - Pikachu\n",
    "attributes = [\"Sp. Atk\", \"Sp. Def\", \"Speed\"]\n",
    "mewtwo_stats = dataframe_index_is_name.loc[\"Mewtwo\", attributes]\n",
    "ratata_stats = dataframe_index_is_name.loc[\"Ratata\", attributes]\n",
    "pikachu_stats = dataframe_index_is_name.loc[\"Pikachu\", attributes]"
   ]
  },
  {
   "cell_type": "code",
   "execution_count": 24,
   "id": "f94e0b6a",
   "metadata": {},
   "outputs": [],
   "source": [
    "# 3. Assign the information listed in Question 1 of the Pokemon with the following index as `DataFrame` to another variable.\n",
    "# - 50\n",
    "# - 100\n",
    "# - 150\n",
    "indices = [50,100,150]\n",
    "attributes_indices= [8,9,10]\n",
    "solution_3 = dataframe.iloc[indices, attributes_indices]"
   ]
  },
  {
   "cell_type": "code",
   "execution_count": 34,
   "id": "9bec66cc",
   "metadata": {},
   "outputs": [],
   "source": [
    "# 4. Modify the `Attack` and `Defense` of `Snorlax` to 300.\n",
    "dataframe_index_is_name.loc[\"Snorlax\", [\"Attack\", \"Defense\"]] = 300"
   ]
  },
  {
   "cell_type": "code",
   "execution_count": 37,
   "id": "bad3e8b9",
   "metadata": {},
   "outputs": [],
   "source": [
    "# 5. Create a subset of the original `DataFrame` containing only the First Generation Pokemon,\n",
    "# and assign it to another variable.\n",
    "first_gen_pokemon = dataframe[dataframe.Generation == 1]"
   ]
  },
  {
   "cell_type": "code",
   "execution_count": 38,
   "id": "3d2df9dc",
   "metadata": {},
   "outputs": [],
   "source": [
    "# 6. Create a subset of the original `DataFrame` containing only the Second Generation Pokemon \n",
    "# with `Sp. Atk` **and** `Sp. Def` of at least 100. \n",
    "# Assign the `DataFrame` to another variable.\n",
    "second_gen_pokemon = dataframe[dataframe.Generation == 2]\n",
    "second_gen_with_and_criteria_fulfilled = second_gen_pokemon[\n",
    "    (second_gen_pokemon[\"Sp. Atk\"] >= 100) & (second_gen_pokemon[\"Sp. Def\"] >= 100)\n",
    "]"
   ]
  },
  {
   "cell_type": "code",
   "execution_count": 40,
   "id": "6ea22aeb",
   "metadata": {},
   "outputs": [],
   "source": [
    "# 7. Create a subset of the original `DataFrame` containing only the Second Generation Pokemon \n",
    "# with `Sp. Atk` **or** `Sp. Def` of at least 100. \n",
    "# Assign the `DataFrame` to another variable.\n",
    "second_gen_with_or_criteria_fulfilled = second_gen_pokemon[\n",
    "    (second_gen_pokemon[\"Sp. Atk\"] >= 100) | (second_gen_pokemon[\"Sp. Def\"] >= 100)\n",
    "]"
   ]
  },
  {
   "cell_type": "markdown",
   "id": "5a8445f1",
   "metadata": {},
   "source": [
    "## Useful Resources\n",
    "A great discussion on the difference between `map`, `applymap` and `apply` methods can be found on this [post](https://stackoverflow.com/questions/19798153/difference-between-map-applymap-and-apply-methods-in-pandas) in Stackoverflow."
   ]
  },
  {
   "cell_type": "markdown",
   "id": "163655af",
   "metadata": {},
   "source": [
    "**Copyright (C) 2021  Lee Kian Yang**\n",
    "\n",
    "This program is licensed under MIT license."
   ]
  }
 ],
 "metadata": {
  "kernelspec": {
   "display_name": "Python 3",
   "language": "python",
   "name": "python3"
  },
  "language_info": {
   "codemirror_mode": {
    "name": "ipython",
    "version": 3
   },
   "file_extension": ".py",
   "mimetype": "text/x-python",
   "name": "python",
   "nbconvert_exporter": "python",
   "pygments_lexer": "ipython3",
   "version": "3.7.10"
  }
 },
 "nbformat": 4,
 "nbformat_minor": 5
}
