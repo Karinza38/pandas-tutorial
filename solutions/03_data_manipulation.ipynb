{
 "cells": [
  {
   "cell_type": "markdown",
   "source": [
    "# 03 - Data Manipulation"
   ],
   "metadata": {}
  },
  {
   "cell_type": "markdown",
   "source": [
    "## Import Package"
   ],
   "metadata": {}
  },
  {
   "cell_type": "code",
   "execution_count": 1,
   "source": [
    "import pandas as pd"
   ],
   "outputs": [],
   "metadata": {}
  },
  {
   "cell_type": "code",
   "execution_count": 2,
   "source": [
    "dataframe = pd.read_csv(\"https://raw.githubusercontent.com/KianYang-Lee/pandas-tutorial/main/datasets/Pokemon.csv\")\r\n",
    "dataframe.head()"
   ],
   "outputs": [
    {
     "output_type": "execute_result",
     "data": {
      "text/html": [
       "<div>\n",
       "<style scoped>\n",
       "    .dataframe tbody tr th:only-of-type {\n",
       "        vertical-align: middle;\n",
       "    }\n",
       "\n",
       "    .dataframe tbody tr th {\n",
       "        vertical-align: top;\n",
       "    }\n",
       "\n",
       "    .dataframe thead th {\n",
       "        text-align: right;\n",
       "    }\n",
       "</style>\n",
       "<table border=\"1\" class=\"dataframe\">\n",
       "  <thead>\n",
       "    <tr style=\"text-align: right;\">\n",
       "      <th></th>\n",
       "      <th>#</th>\n",
       "      <th>Name</th>\n",
       "      <th>Type 1</th>\n",
       "      <th>Type 2</th>\n",
       "      <th>Total</th>\n",
       "      <th>HP</th>\n",
       "      <th>Attack</th>\n",
       "      <th>Defense</th>\n",
       "      <th>Sp. Atk</th>\n",
       "      <th>Sp. Def</th>\n",
       "      <th>Speed</th>\n",
       "      <th>Generation</th>\n",
       "      <th>Legendary</th>\n",
       "    </tr>\n",
       "  </thead>\n",
       "  <tbody>\n",
       "    <tr>\n",
       "      <th>0</th>\n",
       "      <td>1</td>\n",
       "      <td>Bulbasaur</td>\n",
       "      <td>Grass</td>\n",
       "      <td>Poison</td>\n",
       "      <td>318</td>\n",
       "      <td>45</td>\n",
       "      <td>49</td>\n",
       "      <td>49</td>\n",
       "      <td>65</td>\n",
       "      <td>65</td>\n",
       "      <td>45</td>\n",
       "      <td>1</td>\n",
       "      <td>False</td>\n",
       "    </tr>\n",
       "    <tr>\n",
       "      <th>1</th>\n",
       "      <td>2</td>\n",
       "      <td>Ivysaur</td>\n",
       "      <td>Grass</td>\n",
       "      <td>Poison</td>\n",
       "      <td>405</td>\n",
       "      <td>60</td>\n",
       "      <td>62</td>\n",
       "      <td>63</td>\n",
       "      <td>80</td>\n",
       "      <td>80</td>\n",
       "      <td>60</td>\n",
       "      <td>1</td>\n",
       "      <td>False</td>\n",
       "    </tr>\n",
       "    <tr>\n",
       "      <th>2</th>\n",
       "      <td>3</td>\n",
       "      <td>Venusaur</td>\n",
       "      <td>Grass</td>\n",
       "      <td>Poison</td>\n",
       "      <td>525</td>\n",
       "      <td>80</td>\n",
       "      <td>82</td>\n",
       "      <td>83</td>\n",
       "      <td>100</td>\n",
       "      <td>100</td>\n",
       "      <td>80</td>\n",
       "      <td>1</td>\n",
       "      <td>False</td>\n",
       "    </tr>\n",
       "    <tr>\n",
       "      <th>3</th>\n",
       "      <td>3</td>\n",
       "      <td>VenusaurMega Venusaur</td>\n",
       "      <td>Grass</td>\n",
       "      <td>Poison</td>\n",
       "      <td>625</td>\n",
       "      <td>80</td>\n",
       "      <td>100</td>\n",
       "      <td>123</td>\n",
       "      <td>122</td>\n",
       "      <td>120</td>\n",
       "      <td>80</td>\n",
       "      <td>1</td>\n",
       "      <td>False</td>\n",
       "    </tr>\n",
       "    <tr>\n",
       "      <th>4</th>\n",
       "      <td>4</td>\n",
       "      <td>Charmander</td>\n",
       "      <td>Fire</td>\n",
       "      <td>NaN</td>\n",
       "      <td>309</td>\n",
       "      <td>39</td>\n",
       "      <td>52</td>\n",
       "      <td>43</td>\n",
       "      <td>60</td>\n",
       "      <td>50</td>\n",
       "      <td>65</td>\n",
       "      <td>1</td>\n",
       "      <td>False</td>\n",
       "    </tr>\n",
       "  </tbody>\n",
       "</table>\n",
       "</div>"
      ],
      "text/plain": [
       "   #                   Name Type 1  Type 2  Total  HP  Attack  Defense  \\\n",
       "0  1              Bulbasaur  Grass  Poison    318  45      49       49   \n",
       "1  2                Ivysaur  Grass  Poison    405  60      62       63   \n",
       "2  3               Venusaur  Grass  Poison    525  80      82       83   \n",
       "3  3  VenusaurMega Venusaur  Grass  Poison    625  80     100      123   \n",
       "4  4             Charmander   Fire     NaN    309  39      52       43   \n",
       "\n",
       "   Sp. Atk  Sp. Def  Speed  Generation  Legendary  \n",
       "0       65       65     45           1      False  \n",
       "1       80       80     60           1      False  \n",
       "2      100      100     80           1      False  \n",
       "3      122      120     80           1      False  \n",
       "4       60       50     65           1      False  "
      ]
     },
     "metadata": {},
     "execution_count": 2
    }
   ],
   "metadata": {}
  },
  {
   "cell_type": "markdown",
   "source": [
    "## Practice Section"
   ],
   "metadata": {}
  },
  {
   "cell_type": "markdown",
   "source": [
    "1. Subset the following columns and assign them to another variable.\r\n",
    "- Sp. Atk\r\n",
    "- Sp. Def\r\n",
    "- Speed\r\n",
    "\r\n",
    "2. Find all attributes in Question 1 of the following Pokemon and assign to a variable respectively.\r\n",
    "eg. Diglet 35 10 70\r\n",
    "- Mewtwo\r\n",
    "- Butterfree\r\n",
    "- Pikachu\r\n",
    "\r\n",
    "3. Assign the information listed in Question 1 of the Pokemon with the following index as `DataFrame` to another variable.\r\n",
    "- 50\r\n",
    "- 100\r\n",
    "- 150\r\n",
    "\r\n",
    "4. Modify the `Attack` and `Defense` of `Snorlax` to 300.\r\n",
    "5. Create a subset of the original `DataFrame` containing only the First Generation Pokemon, and assign it to another variable.\r\n",
    "6. Create a subset of the original `DataFrame` containing only the Second Generation Pokemon with `Sp. Atk` **and** `Sp. Def` of at least 100. Assign the `DataFrame` to another variable.\r\n",
    "7. Create a subset of the original `DataFrame` containing only the Second Generation Pokemon with `Sp. Atk` **or** `Sp. Def` of at least 100. Assign the `DataFrame` to another variable."
   ],
   "metadata": {}
  },
  {
   "cell_type": "code",
   "execution_count": 3,
   "source": [
    "# 1. Subset the following columns and assign them to another variable.\r\n",
    "# - Sp. Atk\r\n",
    "# - Sp. Def\r\n",
    "# - Speed\r\n",
    "pokemon_sp_atk = dataframe[\"Sp. Atk\"]\r\n",
    "pokemon_sp_def = dataframe[\"Sp. Def\"]\r\n",
    "pokemon_speed = dataframe.Speed"
   ],
   "outputs": [],
   "metadata": {}
  },
  {
   "cell_type": "code",
   "execution_count": 4,
   "source": [
    "dataframe_index_is_name = dataframe.set_index(\"Name\")"
   ],
   "outputs": [],
   "metadata": {}
  },
  {
   "cell_type": "code",
   "execution_count": 5,
   "source": [
    "# 2. Find all attributes in Question 1 of the following Pokemon and assign to a variable respectively.\r\n",
    "# eg. Diglet 35 10 70\r\n",
    "# - Mewtwo\r\n",
    "# - Butterfree\r\n",
    "# - Pikachu\r\n",
    "attributes = [\"Sp. Atk\", \"Sp. Def\", \"Speed\"]\r\n",
    "mewtwo_stats = dataframe_index_is_name.loc[\"Mewtwo\", attributes]\r\n",
    "butterfree_stats = dataframe_index_is_name.loc[\"Butterfree\", attributes]\r\n",
    "pikachu_stats = dataframe_index_is_name.loc[\"Pikachu\", attributes]"
   ],
   "outputs": [],
   "metadata": {}
  },
  {
   "cell_type": "code",
   "execution_count": 6,
   "source": [
    "# 3. Assign the information listed in Question 1 of the Pokemon with the following index as `DataFrame` to another variable.\r\n",
    "# - 50\r\n",
    "# - 100\r\n",
    "# - 150\r\n",
    "indices = [50,100,150]\r\n",
    "attributes_indices= [8,9,10]\r\n",
    "solution_3 = dataframe.iloc[indices, attributes_indices]"
   ],
   "outputs": [],
   "metadata": {}
  },
  {
   "cell_type": "code",
   "execution_count": 7,
   "source": [
    "# 4. Modify the `Attack` and `Defense` of `Snorlax` to 300.\r\n",
    "dataframe_index_is_name.loc[\"Snorlax\", [\"Attack\", \"Defense\"]] = 300"
   ],
   "outputs": [],
   "metadata": {}
  },
  {
   "cell_type": "code",
   "execution_count": 8,
   "source": [
    "# 5. Create a subset of the original `DataFrame` containing only the First Generation Pokemon,\r\n",
    "# and assign it to another variable.\r\n",
    "first_gen_pokemon = dataframe[dataframe.Generation == 1]"
   ],
   "outputs": [],
   "metadata": {}
  },
  {
   "cell_type": "code",
   "execution_count": 9,
   "source": [
    "# 6. Create a subset of the original `DataFrame` containing only the Second Generation Pokemon \r\n",
    "# with `Sp. Atk` **and** `Sp. Def` of at least 100. \r\n",
    "# Assign the `DataFrame` to another variable.\r\n",
    "second_gen_pokemon = dataframe[dataframe.Generation == 2]\r\n",
    "second_gen_with_and_criteria_fulfilled = second_gen_pokemon[\r\n",
    "    (second_gen_pokemon[\"Sp. Atk\"] >= 100) & (second_gen_pokemon[\"Sp. Def\"] >= 100)\r\n",
    "]"
   ],
   "outputs": [],
   "metadata": {}
  },
  {
   "cell_type": "code",
   "execution_count": 10,
   "source": [
    "# 7. Create a subset of the original `DataFrame` containing only the Second Generation Pokemon \r\n",
    "# with `Sp. Atk` **or** `Sp. Def` of at least 100. \r\n",
    "# Assign the `DataFrame` to another variable.\r\n",
    "second_gen_with_or_criteria_fulfilled = second_gen_pokemon[\r\n",
    "    (second_gen_pokemon[\"Sp. Atk\"] >= 100) | (second_gen_pokemon[\"Sp. Def\"] >= 100)\r\n",
    "]"
   ],
   "outputs": [],
   "metadata": {}
  },
  {
   "cell_type": "markdown",
   "source": [
    "## Useful Resources\n",
    "A great discussion on the difference between `map`, `applymap` and `apply` methods can be found on this [post](https://stackoverflow.com/questions/19798153/difference-between-map-applymap-and-apply-methods-in-pandas) in Stackoverflow."
   ],
   "metadata": {}
  },
  {
   "cell_type": "markdown",
   "source": [
    "**Copyright (C) 2021  Lee Kian Yang**\n",
    "\n",
    "This program is licensed under MIT license."
   ],
   "metadata": {}
  }
 ],
 "metadata": {
  "kernelspec": {
   "name": "python3",
   "display_name": "Python 3.8.11 64-bit ('pandas-tutorial': conda)"
  },
  "language_info": {
   "codemirror_mode": {
    "name": "ipython",
    "version": 3
   },
   "file_extension": ".py",
   "mimetype": "text/x-python",
   "name": "python",
   "nbconvert_exporter": "python",
   "pygments_lexer": "ipython3",
   "version": "3.8.11"
  },
  "interpreter": {
   "hash": "be31f12867c34616feef6adb81d63e40e68e5bf26e8f59d7dfdb78141a19b98d"
  }
 },
 "nbformat": 4,
 "nbformat_minor": 5
}