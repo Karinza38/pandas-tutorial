{
 "cells": [
  {
   "cell_type": "markdown",
   "source": [
    "# 06 - Data Analysis"
   ],
   "metadata": {}
  },
  {
   "cell_type": "markdown",
   "source": [
    "## Import Package"
   ],
   "metadata": {}
  },
  {
   "cell_type": "code",
   "execution_count": 1,
   "source": [
    "import pandas as pd"
   ],
   "outputs": [],
   "metadata": {}
  },
  {
   "cell_type": "code",
   "execution_count": 2,
   "source": [
    "# Use Pokemon dataset\r\n",
    "dataframe = pd.read_csv(\"https://raw.githubusercontent.com/KianYang-Lee/pandas-tutorial/main/datasets/Pokemon.csv\")"
   ],
   "outputs": [],
   "metadata": {}
  },
  {
   "cell_type": "markdown",
   "source": [
    "## Practice Section"
   ],
   "metadata": {}
  },
  {
   "cell_type": "markdown",
   "source": [
    "Using the methods introduced in this notebook, generate insights for the following questions:\r\n",
    "- Do the top 5 Pokemon with highest Attack also have high Defense?\r\n",
    "- What are the top 3 2nd Generation Pokemon with highest Sp. Atk?\r\n",
    "- What are the Pokemon with highest Attack from each Generation?\r\n",
    "- Which Pokemon type (\"Type 1\") has the highest average Speed?\r\n",
    "- How many Legendary Pokemon is from the 4th Generation?"
   ],
   "metadata": {}
  },
  {
   "cell_type": "code",
   "execution_count": 3,
   "source": [
    "# - Do the top 5 Pokemon with highest Attack also have high Defense?\r\n",
    "# Get the top 5 Pokemon with highest attack\r\n",
    "top_5_attack_pokemon = dataframe.nlargest(5, \"Attack\")\r\n",
    "\r\n",
    "# Get the average Defense of all pokemon\r\n",
    "dataframe.Defense.describe()\r\n",
    "\r\n",
    "# How many of them have higher Defense than the average value?\r\n",
    "top_5_attack_pokemon.Defense > dataframe.Defense.mean()\r\n",
    "\r\n",
    "# Yup, seems like it except for one case."
   ],
   "outputs": [
    {
     "output_type": "execute_result",
     "data": {
      "text/plain": [
       "163     True\n",
       "232     True\n",
       "424     True\n",
       "426     True\n",
       "429    False\n",
       "Name: Defense, dtype: bool"
      ]
     },
     "metadata": {},
     "execution_count": 3
    }
   ],
   "metadata": {}
  },
  {
   "cell_type": "code",
   "execution_count": 4,
   "source": [
    "# - What are the top 3 2nd Generation Pokemon with highest Sp. Atk?\r\n",
    "dataframe[dataframe.Generation == 2].nlargest(3, \"Sp. Atk\")"
   ],
   "outputs": [
    {
     "output_type": "execute_result",
     "data": {
      "text/html": [
       "<div>\n",
       "<style scoped>\n",
       "    .dataframe tbody tr th:only-of-type {\n",
       "        vertical-align: middle;\n",
       "    }\n",
       "\n",
       "    .dataframe tbody tr th {\n",
       "        vertical-align: top;\n",
       "    }\n",
       "\n",
       "    .dataframe thead th {\n",
       "        text-align: right;\n",
       "    }\n",
       "</style>\n",
       "<table border=\"1\" class=\"dataframe\">\n",
       "  <thead>\n",
       "    <tr style=\"text-align: right;\">\n",
       "      <th></th>\n",
       "      <th>#</th>\n",
       "      <th>Name</th>\n",
       "      <th>Type 1</th>\n",
       "      <th>Type 2</th>\n",
       "      <th>Total</th>\n",
       "      <th>HP</th>\n",
       "      <th>Attack</th>\n",
       "      <th>Defense</th>\n",
       "      <th>Sp. Atk</th>\n",
       "      <th>Sp. Def</th>\n",
       "      <th>Speed</th>\n",
       "      <th>Generation</th>\n",
       "      <th>Legendary</th>\n",
       "    </tr>\n",
       "  </thead>\n",
       "  <tbody>\n",
       "    <tr>\n",
       "      <th>196</th>\n",
       "      <td>181</td>\n",
       "      <td>AmpharosMega Ampharos</td>\n",
       "      <td>Electric</td>\n",
       "      <td>Dragon</td>\n",
       "      <td>610</td>\n",
       "      <td>90</td>\n",
       "      <td>95</td>\n",
       "      <td>105</td>\n",
       "      <td>165</td>\n",
       "      <td>110</td>\n",
       "      <td>45</td>\n",
       "      <td>2</td>\n",
       "      <td>False</td>\n",
       "    </tr>\n",
       "    <tr>\n",
       "      <th>248</th>\n",
       "      <td>229</td>\n",
       "      <td>HoundoomMega Houndoom</td>\n",
       "      <td>Dark</td>\n",
       "      <td>Fire</td>\n",
       "      <td>600</td>\n",
       "      <td>75</td>\n",
       "      <td>90</td>\n",
       "      <td>90</td>\n",
       "      <td>140</td>\n",
       "      <td>90</td>\n",
       "      <td>115</td>\n",
       "      <td>2</td>\n",
       "      <td>False</td>\n",
       "    </tr>\n",
       "    <tr>\n",
       "      <th>211</th>\n",
       "      <td>196</td>\n",
       "      <td>Espeon</td>\n",
       "      <td>Psychic</td>\n",
       "      <td>NaN</td>\n",
       "      <td>525</td>\n",
       "      <td>65</td>\n",
       "      <td>65</td>\n",
       "      <td>60</td>\n",
       "      <td>130</td>\n",
       "      <td>95</td>\n",
       "      <td>110</td>\n",
       "      <td>2</td>\n",
       "      <td>False</td>\n",
       "    </tr>\n",
       "  </tbody>\n",
       "</table>\n",
       "</div>"
      ],
      "text/plain": [
       "       #                   Name    Type 1  Type 2  Total  HP  Attack  Defense  \\\n",
       "196  181  AmpharosMega Ampharos  Electric  Dragon    610  90      95      105   \n",
       "248  229  HoundoomMega Houndoom      Dark    Fire    600  75      90       90   \n",
       "211  196                 Espeon   Psychic     NaN    525  65      65       60   \n",
       "\n",
       "     Sp. Atk  Sp. Def  Speed  Generation  Legendary  \n",
       "196      165      110     45           2      False  \n",
       "248      140       90    115           2      False  \n",
       "211      130       95    110           2      False  "
      ]
     },
     "metadata": {},
     "execution_count": 4
    }
   ],
   "metadata": {}
  },
  {
   "cell_type": "code",
   "execution_count": 5,
   "source": [
    "# - What are the Pokemon with highest Attack from each Generation?\r\n",
    "max_attack_series_from_each_gen = dataframe.groupby(\"Generation\").Attack.max()\r\n",
    "max_attack_series_from_each_gen.keys()\r\n",
    "max_attack_series_from_each_gen.values\r\n",
    "for (gen, attack) in max_attack_series_from_each_gen.items():\r\n",
    "    print(dataframe[(dataframe.Generation == gen) & (dataframe.Attack == attack)].Name)"
   ],
   "outputs": [
    {
     "output_type": "stream",
     "name": "stdout",
     "text": [
      "163    MewtwoMega Mewtwo X\n",
      "Name: Name, dtype: object\n",
      "232    HeracrossMega Heracross\n",
      "Name: Name, dtype: object\n",
      "424    GroudonPrimal Groudon\n",
      "426    RayquazaMega Rayquaza\n",
      "429       DeoxysAttack Forme\n",
      "Name: Name, dtype: object\n",
      "494    GarchompMega Garchomp\n",
      "Name: Name, dtype: object\n",
      "711    KyuremBlack Kyurem\n",
      "Name: Name, dtype: object\n",
      "796    DiancieMega Diancie\n",
      "798     HoopaHoopa Unbound\n",
      "Name: Name, dtype: object\n"
     ]
    }
   ],
   "metadata": {}
  },
  {
   "cell_type": "code",
   "execution_count": 6,
   "source": [
    "# - Which Pokemon type (\"Type 1\") has the highest average Speed?\r\n",
    "avg_speed_for_each_type = dataframe.groupby(\"Type 1\").Speed.mean()\r\n",
    "avg_speed_for_each_type.sort_values(ascending=False)\r\n",
    "\r\n",
    "# Flying type"
   ],
   "outputs": [
    {
     "output_type": "execute_result",
     "data": {
      "text/plain": [
       "Type 1\n",
       "Flying      102.500000\n",
       "Electric     84.500000\n",
       "Dragon       83.031250\n",
       "Psychic      81.491228\n",
       "Dark         76.161290\n",
       "Fire         74.442308\n",
       "Normal       71.551020\n",
       "Fighting     66.074074\n",
       "Water        65.964286\n",
       "Ghost        64.343750\n",
       "Ground       63.906250\n",
       "Poison       63.571429\n",
       "Ice          63.458333\n",
       "Grass        61.928571\n",
       "Bug          61.681159\n",
       "Rock         55.909091\n",
       "Steel        55.259259\n",
       "Fairy        48.588235\n",
       "Name: Speed, dtype: float64"
      ]
     },
     "metadata": {},
     "execution_count": 6
    }
   ],
   "metadata": {}
  },
  {
   "cell_type": "code",
   "execution_count": 7,
   "source": [
    "# - How many Legendary Pokemon is from the 4th Generation?\r\n",
    "dataframe[dataframe.Generation == 4].Legendary.sum()"
   ],
   "outputs": [
    {
     "output_type": "execute_result",
     "data": {
      "text/plain": [
       "13"
      ]
     },
     "metadata": {},
     "execution_count": 7
    }
   ],
   "metadata": {}
  },
  {
   "cell_type": "markdown",
   "source": [
    "**Copyright (C) 2021  Lee Kian Yang**\n",
    "\n",
    "This program is licensed under MIT license."
   ],
   "metadata": {}
  }
 ],
 "metadata": {
  "kernelspec": {
   "name": "python3",
   "display_name": "Python 3.8.11 64-bit ('pandas-tutorial': conda)"
  },
  "language_info": {
   "codemirror_mode": {
    "name": "ipython",
    "version": 3
   },
   "file_extension": ".py",
   "mimetype": "text/x-python",
   "name": "python",
   "nbconvert_exporter": "python",
   "pygments_lexer": "ipython3",
   "version": "3.8.11"
  },
  "interpreter": {
   "hash": "be31f12867c34616feef6adb81d63e40e68e5bf26e8f59d7dfdb78141a19b98d"
  }
 },
 "nbformat": 4,
 "nbformat_minor": 5
}